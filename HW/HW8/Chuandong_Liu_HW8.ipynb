{
 "cells": [
  {
   "cell_type": "markdown",
   "metadata": {},
   "source": [
    "# HW8 - student worksheet\n",
    "    by Chuandong Liu\n",
    "This assignment is solely my work.\n",
    "<hr size=\"5\"/>\n",
    "<!DOCTYPE html>Focus: Lesson 15.\n",
    "<html>"
   ]
  },
  {
   "cell_type": "markdown",
   "metadata": {},
   "source": [
    "## Part 1: ndarray attributes"
   ]
  },
  {
   "cell_type": "markdown",
   "metadata": {},
   "source": [
    "\"[NumPy Documentation][]\"\n",
    "\n",
    "\n",
    "[NumPy Documentation]: https://numpy.org/doc/stable/user/absolute_beginners.html \"\""
   ]
  },
  {
   "cell_type": "markdown",
   "metadata": {},
   "source": [
    "#### Task 1A: \n",
    "Run the following code"
   ]
  },
  {
   "cell_type": "code",
   "execution_count": 1,
   "metadata": {},
   "outputs": [
    {
     "name": "stdout",
     "output_type": "stream",
     "text": [
      "<class 'numpy.ndarray'>\n",
      "[6.  7.5 8.  0.  1. ]\n",
      "float64\n",
      "(5,)\n",
      "1\n"
     ]
    }
   ],
   "source": [
    "import numpy as np\n",
    "\n",
    "arrayData = [6, 7.5, 8, 0, 1]\n",
    "myFirstArray =  np.array(arrayData)\n",
    "\n",
    "print(type(myFirstArray))\n",
    "print(myFirstArray)\n",
    "print(myFirstArray.dtype)\n",
    "print(myFirstArray.shape)\n",
    "print(myFirstArray.ndim)"
   ]
  },
  {
   "cell_type": "markdown",
   "metadata": {},
   "source": [
    "#### Task 1B: \n",
    "Print the shape of <i>mySecondArray</i> (do so by adding an additional line to the below statement)"
   ]
  },
  {
   "cell_type": "code",
   "execution_count": 2,
   "metadata": {},
   "outputs": [
    {
     "name": "stdout",
     "output_type": "stream",
     "text": [
      "(2, 3)\n"
     ]
    }
   ],
   "source": [
    "mySecondArray = np.array([[1, 2, 3], [4, 5, 6]], np.int32)\n",
    "print(mySecondArray.shape)\n"
   ]
  },
  {
   "cell_type": "markdown",
   "metadata": {},
   "source": [
    "## Part 2: instantiating ndarray objects"
   ]
  },
  {
   "cell_type": "markdown",
   "metadata": {},
   "source": [
    "#### Task 2A: \n",
    "Run the following code"
   ]
  },
  {
   "cell_type": "code",
   "execution_count": 3,
   "metadata": {},
   "outputs": [
    {
     "data": {
      "text/plain": [
       "array([[0, 1, 2],\n",
       "       [2, 3, 4]])"
      ]
     },
     "execution_count": 3,
     "metadata": {},
     "output_type": "execute_result"
    }
   ],
   "source": [
    "np.array([[0,1,2],[2,3,4]])  # example code to convert input data into ndarray"
   ]
  },
  {
   "cell_type": "code",
   "execution_count": 4,
   "metadata": {},
   "outputs": [
    {
     "data": {
      "text/plain": [
       "array([[0., 0., 0.],\n",
       "       [0., 0., 0.]])"
      ]
     },
     "execution_count": 4,
     "metadata": {},
     "output_type": "execute_result"
    }
   ],
   "source": [
    "np.zeros((2,3))              # example code to produce an array of zeros"
   ]
  },
  {
   "cell_type": "code",
   "execution_count": 5,
   "metadata": {},
   "outputs": [
    {
     "data": {
      "text/plain": [
       "array([[1., 1., 1.],\n",
       "       [1., 1., 1.]])"
      ]
     },
     "execution_count": 5,
     "metadata": {},
     "output_type": "execute_result"
    }
   ],
   "source": [
    "np.ones((2,3))               # example code to produce array of 1s with a given datatype and shape"
   ]
  },
  {
   "cell_type": "code",
   "execution_count": 6,
   "metadata": {},
   "outputs": [
    {
     "data": {
      "text/plain": [
       "array([[1., 0., 0.],\n",
       "       [0., 1., 0.],\n",
       "       [0., 0., 1.]])"
      ]
     },
     "execution_count": 6,
     "metadata": {},
     "output_type": "execute_result"
    }
   ],
   "source": [
    "np.eye(3)                    # example code to create a square N x N with (1s on the diagonal and 0s elsewhere) "
   ]
  },
  {
   "cell_type": "code",
   "execution_count": 7,
   "metadata": {},
   "outputs": [
    {
     "data": {
      "text/plain": [
       "array([0, 2, 4, 6, 8])"
      ]
     },
     "execution_count": 7,
     "metadata": {},
     "output_type": "execute_result"
    }
   ],
   "source": [
    "arangeArray = np.arange(0, 10, 2)\n",
    "arangeArray\n",
    "# arange (as in 'a range') is an array-valued version of the built-in Python range function"
   ]
  },
  {
   "cell_type": "markdown",
   "metadata": {},
   "source": [
    "#### Task 2B: \n",
    "Change values in <i>aRangeArray</i> and re-execute.\n",
    "> You can change the values however you please"
   ]
  },
  {
   "cell_type": "code",
   "execution_count": 9,
   "metadata": {},
   "outputs": [
    {
     "data": {
      "text/plain": [
       "array([10, 17, 24, 31, 38, 45, 52, 59, 66, 73, 80, 87, 94])"
      ]
     },
     "execution_count": 9,
     "metadata": {},
     "output_type": "execute_result"
    }
   ],
   "source": [
    "import numpy as np\n",
    "\n",
    "aRangeArray = np.arange(10, 100, 7)\n",
    "aRangeArray"
   ]
  },
  {
   "cell_type": "markdown",
   "metadata": {},
   "source": [
    "#### Task 2C: \n",
    "Run the following code"
   ]
  },
  {
   "cell_type": "code",
   "execution_count": 14,
   "metadata": {},
   "outputs": [
    {
     "data": {
      "text/plain": [
       "array([[9, 3, 6],\n",
       "       [5, 9, 7],\n",
       "       [8, 9, 9]])"
      ]
     },
     "execution_count": 14,
     "metadata": {},
     "output_type": "execute_result"
    }
   ],
   "source": [
    "np.random.randint(0, 10, (3,3))  # generates an array of random numbers (specific function for integers)"
   ]
  },
  {
   "cell_type": "code",
   "execution_count": 11,
   "metadata": {},
   "outputs": [
    {
     "name": "stdout",
     "output_type": "stream",
     "text": [
      "<class 'numpy.ndarray'>\n",
      "[[904 138 905  36  11  76 377 332 577 737 889 750 784 525 362 732 918 967\n",
      "   37 780 457 818 446  61 722 416 784 961 836 743 498 785 963 815 209 641\n",
      "  807 573 922 929 391 869 170 810  63 489 795 744 477 355]\n",
      " [682 757 818 858 904 801 224 352 396 898 704 908 179 856 717 910 937 410\n",
      "  239 454  85 396 875 498 653 963 438 221 906 568 331 580 637 123 237 401\n",
      "  986 811 820 782  95 425 726 908 574 344 527 193  29   7]]\n"
     ]
    },
    {
     "data": {
      "image/png": "[encoded data removed]",
      "text/plain": [
       "<Figure size 432x288 with 1 Axes>"
      ]
     },
     "metadata": {
      "needs_background": "light"
     },
     "output_type": "display_data"
    }
   ],
   "source": [
    "# matplotlib is regarded as the main plotting library within the Python ecosystem. \n",
    "# seaborn (the focus of a forthcoming lesson) is built over matplotlib\n",
    "import matplotlib.pyplot as plt\n",
    "\n",
    "# generate some data\n",
    "randArray = np.random.randint(low=0, high=1000, size = (2,50))\n",
    "print(type(randArray))\n",
    "print(randArray)\n",
    "\n",
    "# generates a plot for an array of random integers\n",
    "plt.scatter(randArray[0], randArray[1]) \n",
    "plt.xlabel('Axis[0]')\n",
    "plt.ylabel('Axis[1]')\n",
    "plt.show()               # display the plot"
   ]
  },
  {
   "cell_type": "code",
   "execution_count": 12,
   "metadata": {},
   "outputs": [
    {
     "name": "stdout",
     "output_type": "stream",
     "text": [
      "[0.  0.2 0.4 0.6 0.8 1.  1.2 1.4 1.6 1.8 2.  2.2 2.4 2.6 2.8 3.  3.2 3.4\n",
      " 3.6 3.8 4.  4.2 4.4 4.6 4.8]\n"
     ]
    },
    {
     "data": {
      "image/png": "[encoded data removed]",
      "text/plain": [
       "<Figure size 432x288 with 1 Axes>"
      ]
     },
     "metadata": {
      "needs_background": "light"
     },
     "output_type": "display_data"
    }
   ],
   "source": [
    "# generate some data\n",
    "rangeData = np.arange(0., 5., 0.2)\n",
    "print(rangeData)\n",
    "\n",
    "# plots a range of values using shapes\n",
    "# red dashes, blue squares and green triangles\n",
    "plt.plot(rangeData, rangeData, 'r--', rangeData, rangeData**2, 'bs', rangeData, rangeData**3, 'g^')\n",
    "plt.show()              # display the plot"
   ]
  },
  {
   "cell_type": "markdown",
   "metadata": {},
   "source": [
    "#### Task 2D: \n",
    "Create an array called <i>randomArray</i> with a shape (8,4) and fill it with random values within the range 5 to 15."
   ]
  },
  {
   "cell_type": "code",
   "execution_count": 19,
   "metadata": {
    "scrolled": true
   },
   "outputs": [
    {
     "data": {
      "text/plain": [
       "array([[15, 14,  6,  5],\n",
       "       [ 8, 14, 14, 11],\n",
       "       [13,  5, 12, 14],\n",
       "       [ 8, 14,  8, 10],\n",
       "       [ 7, 10,  9, 15],\n",
       "       [11,  5, 12, 11],\n",
       "       [ 7, 13, 15, 13],\n",
       "       [ 8, 12, 12,  7]])"
      ]
     },
     "execution_count": 19,
     "metadata": {},
     "output_type": "execute_result"
    }
   ],
   "source": [
    "randomArray = np.random.randint(5, 16, (8,4))\n",
    "randomArray"
   ]
  },
  {
   "cell_type": "markdown",
   "metadata": {},
   "source": [
    "---"
   ]
  },
  {
   "cell_type": "markdown",
   "metadata": {},
   "source": [
    "## Part 3 - arithmetic\n",
    "### Choose any 2D array you previously created and perform the following element-wise operations (A..E):"
   ]
  },
  {
   "cell_type": "markdown",
   "metadata": {},
   "source": [
    "#### Task 3A: \n",
    "Multiple all the values within the array by 3"
   ]
  },
  {
   "cell_type": "code",
   "execution_count": 20,
   "metadata": {},
   "outputs": [
    {
     "data": {
      "text/plain": [
       "array([[45, 42, 18, 15],\n",
       "       [24, 42, 42, 33],\n",
       "       [39, 15, 36, 42],\n",
       "       [24, 42, 24, 30],\n",
       "       [21, 30, 27, 45],\n",
       "       [33, 15, 36, 33],\n",
       "       [21, 39, 45, 39],\n",
       "       [24, 36, 36, 21]])"
      ]
     },
     "execution_count": 20,
     "metadata": {},
     "output_type": "execute_result"
    }
   ],
   "source": [
    "randomArray * 3"
   ]
  },
  {
   "cell_type": "markdown",
   "metadata": {},
   "source": [
    "#### Task 3B: \n",
    "Calculate the mean of ALL array values"
   ]
  },
  {
   "cell_type": "code",
   "execution_count": 22,
   "metadata": {},
   "outputs": [
    {
     "data": {
      "text/plain": [
       "10.5625"
      ]
     },
     "execution_count": 22,
     "metadata": {},
     "output_type": "execute_result"
    }
   ],
   "source": [
    "randomArray.mean()"
   ]
  },
  {
   "cell_type": "markdown",
   "metadata": {},
   "source": [
    "#### Task 3C: \n",
    "Calculate the means of each row of values (i.e., calculate the sum OVER rows). HINT: use the keyword 'axis'"
   ]
  },
  {
   "cell_type": "code",
   "execution_count": 31,
   "metadata": {},
   "outputs": [
    {
     "data": {
      "text/plain": [
       "array([40, 47, 44, 40, 41, 39, 48, 39])"
      ]
     },
     "execution_count": 31,
     "metadata": {},
     "output_type": "execute_result"
    }
   ],
   "source": [
    "randomArray.mean(axis = 1)\n",
    "randomArray.sum(axis = 1)"
   ]
  },
  {
   "cell_type": "markdown",
   "metadata": {},
   "source": [
    "#### Task 3D: \n",
    "Print only the fifth row of the matrix"
   ]
  },
  {
   "cell_type": "code",
   "execution_count": 24,
   "metadata": {},
   "outputs": [
    {
     "data": {
      "text/plain": [
       "array([ 7, 10,  9, 15])"
      ]
     },
     "execution_count": 24,
     "metadata": {},
     "output_type": "execute_result"
    }
   ],
   "source": [
    "randomArray[4]\n"
   ]
  },
  {
   "cell_type": "markdown",
   "metadata": {},
   "source": [
    "#### Task 3E: \n",
    "Calculate the mean of only the 5th row of values"
   ]
  },
  {
   "cell_type": "code",
   "execution_count": 28,
   "metadata": {},
   "outputs": [
    {
     "data": {
      "text/plain": [
       "10.25"
      ]
     },
     "execution_count": 28,
     "metadata": {},
     "output_type": "execute_result"
    }
   ],
   "source": [
    "randomArray.mean(axis=1)[4]\n"
   ]
  },
  {
   "cell_type": "markdown",
   "metadata": {},
   "source": [
    "#### Task 3F: \n",
    "> Construct two arrays. Name them <i>Array_A</i> and <i>Array_B</i>. The values within the arrays can be anything. Make sure they have the same shape. Then compare each element across the arrays, returning either TRUE or FALSE depending upon which value is larger, when compared (Hint: refer to your textbook - see <i>Arithmetic with NumPy Arrays</i>)."
   ]
  },
  {
   "cell_type": "code",
   "execution_count": 32,
   "metadata": {},
   "outputs": [
    {
     "data": {
      "text/plain": [
       "array([[False,  True,  True],\n",
       "       [ True, False, False]])"
      ]
     },
     "execution_count": 32,
     "metadata": {},
     "output_type": "execute_result"
    }
   ],
   "source": [
    "Array_A = np.random.randint(0, 10, (2,3))\n",
    "Array_B = np.random.randint(0, 10, (2,3))\n",
    "Array_A > Array_B"
   ]
  },
  {
   "cell_type": "markdown",
   "metadata": {},
   "source": [
    "#### Task 3G: \n",
    "Instantiate two arrays. Name them <i>Array_A</i> and <i>Array_B</i>. Make sure they have the same shape.\\\n",
    "The values within <i>Array_A</i> have to be between 5 to 13. The values within <i>Array_B</i> have to be between 10 to 18.\n",
    ">Hint: use the array creation function <code>np.arange()</code>"
   ]
  },
  {
   "cell_type": "code",
   "execution_count": 35,
   "metadata": {},
   "outputs": [
    {
     "name": "stdout",
     "output_type": "stream",
     "text": [
      "[ 5  6  7  8  9 10 11 12]\n",
      "[10 11 12 13 14 15 16 17]\n"
     ]
    }
   ],
   "source": [
    "Array_A = np.arange(5, 13)\n",
    "print(Array_A)\n",
    "Array_B = np.arange(10, 18)\n",
    "print(Array_B)"
   ]
  },
  {
   "cell_type": "markdown",
   "metadata": {},
   "source": [
    "#### Task 3H: \n",
    ">Print the common values across the two arrays.\\\n",
    ">Hint: See <i>'Table 4-6 Array set operations'</i>"
   ]
  },
  {
   "cell_type": "code",
   "execution_count": 37,
   "metadata": {},
   "outputs": [
    {
     "data": {
      "text/plain": [
       "array([10, 11, 12])"
      ]
     },
     "execution_count": 37,
     "metadata": {},
     "output_type": "execute_result"
    }
   ],
   "source": [
    "np.intersect1d(Array_A, Array_B)"
   ]
  },
  {
   "cell_type": "markdown",
   "metadata": {},
   "source": [
    "#### Task 3I: \n",
    ">Print the values in Array_B that are <u>not in</u> Array_A.\\\n",
    ">Hint: See <i>Table 4-6 Array set operations</i>"
   ]
  },
  {
   "cell_type": "code",
   "execution_count": 38,
   "metadata": {},
   "outputs": [
    {
     "data": {
      "text/plain": [
       "array([ 5,  6,  7,  8,  9, 13, 14, 15, 16, 17])"
      ]
     },
     "execution_count": 38,
     "metadata": {},
     "output_type": "execute_result"
    }
   ],
   "source": [
    "np.setxor1d(Array_A, Array_B)\n"
   ]
  },
  {
   "cell_type": "markdown",
   "metadata": {},
   "source": [
    "---"
   ]
  },
  {
   "cell_type": "markdown",
   "metadata": {},
   "source": [
    "## Part 4 - slicing"
   ]
  },
  {
   "cell_type": "markdown",
   "metadata": {},
   "source": [
    "#### Task 4A: \n",
    "Figure 4-2 in the textbook presents 4 examples of expressions for array slicing. The code to perform the 4 example slice operations is replicated below. To help learn the coordinate system, the values within <i>arrayData</i> reflect the coordinates of the cell.\n",
    "In the following cell there are additional examples presented as an image. Add slicing operations on <i>arrayData</i> that reflect the slices in the image."
   ]
  },
  {
   "cell_type": "code",
   "execution_count": 45,
   "metadata": {
    "scrolled": false
   },
   "outputs": [
    {
     "name": "stdout",
     "output_type": "stream",
     "text": [
      "(3, 3)\n",
      "\n",
      "Slice=> 0,1:1,2\n",
      "\n",
      " [['0,1' '0,2']\n",
      " ['1,1' '1,2']]\n",
      "\n",
      "Slice=> 2,0:2,2\n",
      "\n",
      " ['2,0' '2,1' '2,2']\n",
      "\n",
      "Slice=> 0,0:2,1\n",
      "\n",
      " [['0,0' '0,1']\n",
      " ['1,0' '1,1']\n",
      " ['2,0' '2,1']]\n",
      "\n",
      "Slice=> 1,0:1,1\n",
      "\n",
      " ['1,0' '1,1']\n",
      "\n",
      "Slice=> 0,1:2,1\n",
      "\n",
      " ['0,1' '1,1' '2,1']\n",
      "\n",
      "Slice=> 0,1:2,2\n",
      "\n",
      " [['0,1' '0,2']\n",
      " ['1,1' '1,2']\n",
      " ['2,1' '2,2']]\n",
      "\n",
      "Slice=> 1,0:2,1\n",
      "\n",
      " [['1,0' '1,1']\n",
      " ['2,0' '2,1']]\n",
      "\n",
      "Slice=> 1,1:2,2\n",
      "\n",
      " [['1,1' '1,2']\n",
      " ['2,1' '2,2']]\n"
     ]
    }
   ],
   "source": [
    "import numpy as np\n",
    "\n",
    "# generate some data\n",
    "arrayData = [['0,0', '0,1', '0,2'], # list of lists\n",
    "             ['1,0', '1,1', '1,2'],\n",
    "             ['2,0', '2,1', '2,2']]\n",
    "numpyArray =  np.array(arrayData)\n",
    "print(numpyArray.shape)\n",
    "\n",
    "# display specific slices\n",
    "print('\\nSlice=> 0,1:1,2\\n\\n', numpyArray[:2, 1:])\n",
    "print('\\nSlice=> 2,0:2,2\\n\\n', numpyArray[ 2, : ])\n",
    "print('\\nSlice=> 0,0:2,1\\n\\n', numpyArray[ :, :2])\n",
    "print('\\nSlice=> 1,0:1,1\\n\\n', numpyArray[ 1, :2])\n",
    "\n",
    "# additional slice No. 1\n",
    "print('\\nSlice=> 0,1:2,1\\n\\n', numpyArray[ :, 1])\n",
    "\n",
    "# additional slice No. 2\n",
    "print('\\nSlice=> 0,1:2,2\\n\\n', numpyArray[ :, 1:])\n",
    "\n",
    "# additional slice No. 3\n",
    "print('\\nSlice=> 1,0:2,1\\n\\n', numpyArray[ 1:, :2])\n",
    "\n",
    "# additional slice No. 4\n",
    "print('\\nSlice=> 1,1:2,2\\n\\n', numpyArray[ 1:, 1:])\n"
   ]
  },
  {
   "cell_type": "markdown",
   "metadata": {},
   "source": [
    "<img src=\"img/slices.png\" alt=\"drawing\" height=\"300\" width=\"400\"/>"
   ]
  },
  {
   "cell_type": "markdown",
   "metadata": {},
   "source": [
    "#### Task 4B: \n",
    "Expand the pattern of values within <i>arrayData</i> from Task 4A (which has a shape of 3,3) to produce an array with a shape (4,5).  Therefore, you will need to add row/columns of new values. Add them by typing in new seed values - do not use a function to generate them."
   ]
  },
  {
   "cell_type": "code",
   "execution_count": 49,
   "metadata": {},
   "outputs": [
    {
     "name": "stdout",
     "output_type": "stream",
     "text": [
      "(4, 5)\n"
     ]
    },
    {
     "data": {
      "text/plain": [
       "array([['0,0', '0,1', '0,2', '0,3', '0,4'],\n",
       "       ['1,0', '1,1', '1,2', '1,3', '1,4'],\n",
       "       ['2,0', '2,1', '2,2', '2,3', '2,4'],\n",
       "       ['3,0', '3,1', '3,2', '3,3', '3,4']], dtype='<U3')"
      ]
     },
     "execution_count": 49,
     "metadata": {},
     "output_type": "execute_result"
    }
   ],
   "source": [
    "arrayData = [['0,0', '0,1', '0,2', '0,3', '0,4'], # list of lists\n",
    "             ['1,0', '1,1', '1,2', '1,3', '1,4'],\n",
    "             ['2,0', '2,1', '2,2', '2,3', '2,4'],\n",
    "             ['3,0', '3,1', '3,2', '3,3', '3,4']]\n",
    "numpyArray =  np.array(arrayData)\n",
    "numpyArray"
   ]
  },
  {
   "cell_type": "markdown",
   "metadata": {},
   "source": [
    "---"
   ]
  },
  {
   "cell_type": "markdown",
   "metadata": {},
   "source": [
    "## Part 5 - shape manipulation"
   ]
  },
  {
   "cell_type": "markdown",
   "metadata": {},
   "source": [
    "#### Task 5A: \n",
    "Instantiate an array with shape (8, 4). It can have any values. Use the reshape array instance method to return a view of this array, but in the form shape (?,?) - you can decide what the updated shape will look like (as long it is not 8,4)."
   ]
  },
  {
   "cell_type": "code",
   "execution_count": 54,
   "metadata": {},
   "outputs": [
    {
     "data": {
      "text/plain": [
       "array([[31, 55, 58, 98, 86, 77, 89, 60, 73, 28, 54, 22,  9, 92, 38, 63],\n",
       "       [41,  8, 19, 70, 56, 27, 38, 28, 82,  8, 78, 76, 97, 29, 95, 27]])"
      ]
     },
     "execution_count": 54,
     "metadata": {},
     "output_type": "execute_result"
    }
   ],
   "source": [
    "randomArray = np.random.randint(1, 100, (8,4))\n",
    "randomArray = randomArray.reshape(2, 16)\n",
    "randomArray"
   ]
  },
  {
   "cell_type": "markdown",
   "metadata": {},
   "source": [
    "#### Task 5B: \n",
    "Swap the axes of your reshaped array using the swapaxes method."
   ]
  },
  {
   "cell_type": "code",
   "execution_count": 55,
   "metadata": {},
   "outputs": [
    {
     "data": {
      "text/plain": [
       "array([[31, 41],\n",
       "       [55,  8],\n",
       "       [58, 19],\n",
       "       [98, 70],\n",
       "       [86, 56],\n",
       "       [77, 27],\n",
       "       [89, 38],\n",
       "       [60, 28],\n",
       "       [73, 82],\n",
       "       [28,  8],\n",
       "       [54, 78],\n",
       "       [22, 76],\n",
       "       [ 9, 97],\n",
       "       [92, 29],\n",
       "       [38, 95],\n",
       "       [63, 27]])"
      ]
     },
     "execution_count": 55,
     "metadata": {},
     "output_type": "execute_result"
    }
   ],
   "source": [
    "np.swapaxes(randomArray,0,1)\n"
   ]
  },
  {
   "cell_type": "markdown",
   "metadata": {},
   "source": [
    "---"
   ]
  },
  {
   "cell_type": "markdown",
   "metadata": {},
   "source": [
    "## Part 6 - multiplication"
   ]
  },
  {
   "cell_type": "markdown",
   "metadata": {},
   "source": [
    "#### Task 6A: \n",
    "For the two arrays of random integers (x & y) use the <b>Linear Algebra</b> method <b>np.dot</b> to multiple the numbers in the first matrix with the numbers in the second matrix."
   ]
  },
  {
   "cell_type": "code",
   "execution_count": 57,
   "metadata": {},
   "outputs": [
    {
     "data": {
      "text/plain": [
       "array([[ 69,  72,  90],\n",
       "       [128,  54, 119],\n",
       "       [ 77, 106, 102]])"
      ]
     },
     "execution_count": 57,
     "metadata": {},
     "output_type": "execute_result"
    }
   ],
   "source": [
    "import numpy as np\n",
    "\n",
    "x = np.random.randint(low = 0, high = 10, size = (3,4))\n",
    "y = np.random.randint(low = 0, high = 10, size = (4,3))\n",
    "\n",
    "np.dot(x,y)"
   ]
  },
  {
   "cell_type": "markdown",
   "metadata": {},
   "source": [
    "#### Task 6B: \n",
    "What is concept of Broadcasting?"
   ]
  },
  {
   "cell_type": "markdown",
   "metadata": {},
   "source": [
    "arithmetic between arrays of different shapes and sizes is called broadcasting"
   ]
  },
  {
   "cell_type": "markdown",
   "metadata": {},
   "source": [
    "#### Task 6C: \n",
    "Provide a working example of Broadcasting involving two arrays"
   ]
  },
  {
   "cell_type": "code",
   "execution_count": 59,
   "metadata": {},
   "outputs": [
    {
     "data": {
      "text/plain": [
       "array([[144, 176, 272, 112],\n",
       "       [171, 209, 323, 133],\n",
       "       [171, 209, 323, 133],\n",
       "       [ 99, 121, 187,  77]])"
      ]
     },
     "execution_count": 59,
     "metadata": {},
     "output_type": "execute_result"
    }
   ],
   "source": [
    "x = np.random.randint(low = 6, high = 20, size = (1,4))\n",
    "y = np.random.randint(low = 10, high = 20, size = (4,1))\n",
    "np.dot(y,x)"
   ]
  },
  {
   "cell_type": "markdown",
   "metadata": {},
   "source": [
    "---"
   ]
  },
  {
   "cell_type": "markdown",
   "metadata": {},
   "source": [
    "## Part 7 - Boolean Indexing"
   ]
  },
  {
   "cell_type": "markdown",
   "metadata": {},
   "source": [
    "#### Task 7A: \n",
    ">See p.99 - Boolean Indexing \\\n",
    ">Write an expression that returns a boolean array: where the value will be True if the ndarray value is more than 100, and False is less than or equal to otherwise"
   ]
  },
  {
   "cell_type": "code",
   "execution_count": 60,
   "metadata": {},
   "outputs": [
    {
     "name": "stdout",
     "output_type": "stream",
     "text": [
      "[[ 65 200]\n",
      " [800  45]\n",
      " [ 36  63]\n",
      " [400  88]]\n"
     ]
    },
    {
     "data": {
      "text/plain": [
       "array([[False,  True],\n",
       "       [ True, False],\n",
       "       [False, False],\n",
       "       [ True, False]])"
      ]
     },
     "execution_count": 60,
     "metadata": {},
     "output_type": "execute_result"
    }
   ],
   "source": [
    "import numpy as np\n",
    "\n",
    "arr = np.array([[65, 200], [800, 45], [36, 63], [400, 88]])\n",
    "print(arr)\n",
    "arr > 100\n"
   ]
  },
  {
   "cell_type": "markdown",
   "metadata": {},
   "source": [
    "#### Task 7B: \n",
    ">Create a new array of only the values in <i>arr</i> that are greater than 100."
   ]
  },
  {
   "cell_type": "code",
   "execution_count": 62,
   "metadata": {},
   "outputs": [
    {
     "name": "stdout",
     "output_type": "stream",
     "text": [
      "[200 800 400]\n"
     ]
    }
   ],
   "source": [
    "highValues = arr[arr>100]\n",
    "print(highValues)"
   ]
  },
  {
   "cell_type": "markdown",
   "metadata": {},
   "source": [
    "---"
   ]
  },
  {
   "cell_type": "markdown",
   "metadata": {},
   "source": [
    "## Part 8 - ufuncs"
   ]
  },
  {
   "cell_type": "markdown",
   "metadata": {},
   "source": [
    "#### Task 8A: \n",
    "As an alternative to adding two arrays together (using array arithmetic), use the 'add' Binary ufuncs function to add the values within any two arrays together."
   ]
  },
  {
   "cell_type": "code",
   "execution_count": 70,
   "metadata": {},
   "outputs": [
    {
     "name": "stdout",
     "output_type": "stream",
     "text": [
      "[[0 6 2 8]\n",
      " [2 9 1 4]\n",
      " [9 2 3 0]\n",
      " [6 3 1 6]]\n",
      "[[4 7 2 6]\n",
      " [2 1 5 7]\n",
      " [3 4 4 0]\n",
      " [5 4 4 5]]\n",
      "[[ 4 13  4 14]\n",
      " [ 4 10  6 11]\n",
      " [12  6  7  0]\n",
      " [11  7  5 11]]\n"
     ]
    }
   ],
   "source": [
    "x = np.random.randint(low = 0, high = 10, size = (4,4))\n",
    "y = np.random.randint(low = 0, high = 10, size = (4,4))\n",
    "print(x)\n",
    "print(y)\n",
    "print(np.add(x,y))"
   ]
  },
  {
   "cell_type": "markdown",
   "metadata": {},
   "source": [
    "#### Task 8B: \n",
    "Add all the cells within your 8,4 array (see Task 5A) and return the sum using the ufuncs sum function."
   ]
  },
  {
   "cell_type": "code",
   "execution_count": 69,
   "metadata": {},
   "outputs": [
    {
     "data": {
      "text/plain": [
       "1451"
      ]
     },
     "execution_count": 69,
     "metadata": {},
     "output_type": "execute_result"
    }
   ],
   "source": [
    "randomArray = np.random.randint(1, 100, (8,4))\n",
    "np.sum(randomArray)"
   ]
  },
  {
   "cell_type": "markdown",
   "metadata": {},
   "source": [
    "#### Task 8C: \n",
    "Produce an array (5,5) of random floats that are uniformly distributed (use np.random.uniform(low=0, high=10, size = (4,4)), then round then all off using <code>np.rint()</code>. (Note: to produce a uniform distribution, please refer to Section 4.6)"
   ]
  },
  {
   "cell_type": "code",
   "execution_count": 68,
   "metadata": {},
   "outputs": [
    {
     "data": {
      "text/plain": [
       "array([[ 8.,  2.,  3.,  8.],\n",
       "       [10.,  0.,  3.,  5.],\n",
       "       [ 3.,  5.,  2.,  6.],\n",
       "       [ 3.,  3.,  1.,  7.]])"
      ]
     },
     "execution_count": 68,
     "metadata": {},
     "output_type": "execute_result"
    }
   ],
   "source": [
    "x = np.random.uniform(low=0, high=10, size = (4,4))\n",
    "np.rint(x)"
   ]
  },
  {
   "cell_type": "markdown",
   "metadata": {},
   "source": [
    "---"
   ]
  },
  {
   "cell_type": "markdown",
   "metadata": {},
   "source": [
    "## Part 9 - Concatenating and Splitting Arrays"
   ]
  },
  {
   "cell_type": "markdown",
   "metadata": {},
   "source": [
    "#### Task 9A: \n",
    "Declare two arrays. Use <code>np.concatenate</code> to concatenate the two arrays (along any axis)."
   ]
  },
  {
   "cell_type": "code",
   "execution_count": 67,
   "metadata": {},
   "outputs": [
    {
     "data": {
      "text/plain": [
       "array([[7, 1],\n",
       "       [2, 5],\n",
       "       [6, 5],\n",
       "       [2, 5],\n",
       "       [9, 3]])"
      ]
     },
     "execution_count": 67,
     "metadata": {},
     "output_type": "execute_result"
    }
   ],
   "source": [
    "x = np.random.randint(low = 0, high = 10, size = (2,2))\n",
    "y = np.random.randint(low = 0, high = 10, size = (3,2))\n",
    "np.concatenate((x,y),axis = 0)\n"
   ]
  },
  {
   "cell_type": "markdown",
   "metadata": {},
   "source": [
    "## End of Homework"
   ]
  }
 ],
 "metadata": {
  "kernelspec": {
   "display_name": "Python 3 (ipykernel)",
   "language": "python",
   "name": "python3"
  },
  "language_info": {
   "codemirror_mode": {
    "name": "ipython",
    "version": 3
   },
   "file_extension": ".py",
   "mimetype": "text/x-python",
   "name": "python",
   "nbconvert_exporter": "python",
   "pygments_lexer": "ipython3",
   "version": "3.9.12"
  }
 },
 "nbformat": 4,
 "nbformat_minor": 2
}
