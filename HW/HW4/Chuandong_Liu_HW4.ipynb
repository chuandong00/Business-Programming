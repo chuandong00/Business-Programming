{
 "cells": [
  {
   "cell_type": "markdown",
   "metadata": {},
   "source": [
    "# HW4 - student worksheet\n",
    "    by Chuandong Liu\n",
    "This assignment is solely my work.\n",
    "<hr size=\"5\"/>\n",
    "<!DOCTYPE html>Focus: Lessons 8 & 9.\n",
    "<html>\n"
   ]
  },
  {
   "cell_type": "markdown",
   "metadata": {},
   "source": [
    "# Preparation\n",
    "\n",
    "- Before attempting this homework, students should have read Severance Chapters 1-5, 14 and the relevant lecture notes.<br>\n",
    "- Save and name your Jupyter Notebook  using the following naming convention. <br>\n",
    "\n",
    "&nbsp;&nbsp;&nbsp;&nbsp;&nbsp;&nbsp;&nbsp;&nbsp;&nbsp;&nbsp;&nbsp;&nbsp;FirstName_LastName_HW4.ipynb\n",
    "\n",
    "&nbsp;&nbsp;&nbsp;&nbsp;&nbsp;&nbsp;&nbsp;&nbsp;&nbsp;&nbsp;&nbsp; For example: George_Burdell_HW4.ipynb\n",
    "\n",
    "---\n",
    "Note: if the images do not render correctly (they must be included in a sub-directory img), then you can access them in the sub-directory img. "
   ]
  },
  {
   "cell_type": "markdown",
   "metadata": {},
   "source": [
    "<b>Problem #1:</b> Functions 1\n",
    "\n",
    "1.\tFor the below program, what would the output be after a program run? \n",
    "2.\tWhat would the output be if the line within the function with the keyword ‘global’ was omitted from the code?\n",
    "3.\tWhy is there a difference (what difference does the statement ‘global a’ make)?\n",
    "\n",
    "<img src=\"img/P1.png\" alt=\"drawing\" height=\"210\" width=\"240\"/>\n"
   ]
  },
  {
   "cell_type": "markdown",
   "metadata": {},
   "source": [
    "Write your answers here:\n",
    "1. \n",
    "42 17 4 17\n",
    "42 15 3 4\n",
    "2.\n",
    "42 17 4 17\n",
    "1 15 3 4\n",
    "3.\n",
    "the key word \"global\" make a global variable, which means it can be modified outside of myFunc."
   ]
  },
  {
   "cell_type": "markdown",
   "metadata": {},
   "source": [
    "---\n",
    "<b>Problem #2:</b> Functions 2\n",
    "\n",
    "Which of the following programs will run without error?\n",
    "\n",
    "<img src=\"img/P2.png\" alt=\"drawing\" height=\"500\" width=\"600\"/>"
   ]
  },
  {
   "cell_type": "markdown",
   "metadata": {},
   "source": [
    "Write your answers here: a, c, d"
   ]
  },
  {
   "cell_type": "markdown",
   "metadata": {},
   "source": [
    "---\n",
    "<b>Problem #3:</b> Classes #1\n",
    "\n",
    "Create a python class (i.e., a user-defined custom type) to instantiate circle objects.\n",
    "Each circle object should have a specified center point (a tuple of two numbers on a Euclidean plane) and radius.\n",
    "\n",
    "<img src=\"img/P3.png\" alt=\"drawing\" height=\"300\" width=\"250\"/>\n",
    "\n",
    "Additional requirements: \n",
    "* Determine a Circle object’s radius via a <code>get_radius</code> method.\n",
    "* Determine a Circle object’s center via a <code>get_center</code> method.\n",
    "* Reposition a Circle via a <code>move</code> method.\n",
    "* Increase a Circle’s radius by one unit via a <code>grow</code> method.\n",
    "* Return the area of a Circle.\n",
    "\n",
    "Note: there is no need to draw the circle.\n",
    "\n",
    "Instantiate a Circle object, and ‘interact’ with it. Demonstrate (with the use of print statements) your ‘interaction’ has resulted in appropriate changes in state of the circle object.\n"
   ]
  },
  {
   "cell_type": "code",
   "execution_count": 7,
   "metadata": {},
   "outputs": [
    {
     "name": "stdout",
     "output_type": "stream",
     "text": [
      "Construction\n",
      "The Radius=> 5\n",
      "The Center=> (4, 5)\n",
      "The Updated Center=> (2, 3)\n"
     ]
    }
   ],
   "source": [
    "import math\n",
    "from math import pi\n",
    "\n",
    "class Circle:\n",
    "    # write your code here\n",
    "    def __init__(self, radius, center):\n",
    "        print(\"Construction\")\n",
    "        self.radius = radius\n",
    "        print(\"The Radius=>\", self.radius)\n",
    "        self.center = center\n",
    "        print(\"The Center=>\", self.center)\n",
    "    \n",
    "    def get_radius(self):\n",
    "        return self.radius\n",
    "    \n",
    "    def get_center(self):\n",
    "        return self.center\n",
    "    \n",
    "    def move(self, new_center):\n",
    "        self.center = new_center\n",
    "        print(\"The Updated Center=>\", self.center)\n",
    "        \n",
    "    def grow(self):\n",
    "        self.radius = self.radius + 1\n",
    "    \n",
    "    def area(self):\n",
    "        return pi * self.radius * self.radius\n",
    "\n",
    "# constructor (please change the Circle's name)\n",
    "CirclesCircle = Circle(5,(4,5))\n",
    "CirclesCircle.move((2,3))"
   ]
  },
  {
   "cell_type": "markdown",
   "metadata": {},
   "source": [
    "---\n",
    "<b>Problem #4:</b> Classes #2\n",
    "\n",
    "Create a python class (i.e., a user-defined custom type) to instantiate Employee objects.\n",
    "\n",
    "Each Employee has a name, an assigned department, possibly an assigned manager, and salary amount.\n",
    "\n",
    "Extend the Employee class to include a Manager class. \n",
    "\n",
    "Managers have qualifications.\n",
    "\n",
    "<b>The life of objects</b>\n",
    "\n",
    "After creating the above classes, extend your python script to instantiate the below objects and record the state changes (events) in the order given in the below timeline.\n",
    "\n",
    "Use the following object ids: John: Emp1234, Nilesh: Emp4567, Sabrina: EmpMgr2288, Sally: EmpMgr1155. \n",
    "\n",
    "Here are the series of events:\n",
    "> Sally is hired as a manager of the Finance department. Sally has an MBA. Sally will be paid $80,000. \n",
    "\n",
    "> John is hired as an employee. At the time of hiring, he is allocated to the Sales dept. He has not yet been allocated a manager. He will be paid $40,000.\n",
    "\n",
    "> Sally is assigned to manage John.\n",
    "\n",
    "> Nilesh is hired as an employee. At the time of hiring, he has not yet been allocated a manager. At the time of hiring, he has been allocated to the Sales Dept. He has not yet been allocated a manager. He will be paid $45,000.\n",
    "\n",
    "> Sabrina is hired as a manager of the Accounting department. Sabrina is a CPA. Sabrina will be paid $90,000.\n",
    "\n",
    "> John is transferred to the Accounting department. His new manager will be Sabrina.\n",
    "\n",
    "\n",
    "Use a set of <code>print</code> statements to produce the example output as shown below the answer cell. The references in the output to objects/object attributes cannot be hard-coded - please use the name attribute to query the instance of the object for its name value."
   ]
  },
  {
   "cell_type": "code",
   "execution_count": 12,
   "metadata": {
    "scrolled": true
   },
   "outputs": [
    {
     "name": "stdout",
     "output_type": "stream",
     "text": [
      "Sally has joined as manager\n",
      "Sally has the following qualification: MBA\n",
      "John has joined as employee\n",
      "John's new manager is Sally\n",
      "Nilesh has joined as employee\n",
      "Sabrina has joined as manager\n",
      "Sabrina has the following qualification: CPA\n",
      "John's new manager is Sabrina\n",
      "John's new department is Accounting\n"
     ]
    }
   ],
   "source": [
    "# When generating output, refer to each object's attributes and functions. \n",
    "# For example, do not hard-code 'John' - you need to call the John object to get its name. \n",
    "# But, you will need to hard-code in the object ids to access their attributes and run methods. \n",
    "\n",
    "# write your code here\n",
    "class Employee:\n",
    "    # write your code here\n",
    "    def __init__(self, name, department, manager, salary):\n",
    "        self.name = name\n",
    "        self.department = department\n",
    "        self.manager = manager\n",
    "        self.salary = salary\n",
    "        print(self.name, 'has joined as employee')\n",
    "\n",
    "    def set_manager(self, manager):\n",
    "        self.manager = manager.name\n",
    "        print(self.name +'\\'s new manager is', self.manager)\n",
    "    \n",
    "    def transfer_department(self, new_manager, new_dept):\n",
    "        self.set_manager(new_manager)\n",
    "        self.department = new_dept\n",
    "        print(self.name +'\\'s new department is', self.department)\n",
    "        \n",
    "class Manager(Employee):\n",
    "    def __init__(self, name, department, manager, salary, qualifications):\n",
    "        self.name = name\n",
    "        self.department = department\n",
    "        self.manager = manager\n",
    "        self.salary = salary\n",
    "        self.qualifications = qualifications\n",
    "        print(self.name, 'has joined as manager')\n",
    "        print(self.name, 'has the following qualification:', self.qualifications)\n",
    "        \n",
    "\n",
    "\n",
    "# constructor (please change the Circle's name)\n",
    "EmpMgr1155 = Manager('Sally', 'Finance', '', 80000, 'MBA')\n",
    "Emp1234 = Employee('John', 'Sales dept', '', 40000)\n",
    "Emp1234.set_manager(EmpMgr1155)\n",
    "Emp4567 = Employee('Nilesh', 'Sales dept', '', 45000)\n",
    "EmpMgr2288 = Manager('Sabrina', 'Accounting', '', 90000, 'CPA')\n",
    "Emp1234.transfer_department(EmpMgr2288, 'Accounting')"
   ]
  },
  {
   "cell_type": "markdown",
   "metadata": {},
   "source": [
    "---\n",
    "<b>Problem #5:</b> Decorators\n",
    "\n",
    "The function <code>changeCase()</code> changes to lower case and then prints any string that starts with a capital A. Clearly this function is somewhat limited in its functionality. Extend the functionality of <code>changeCase()</code> to also change any string to <b>all capitals</b> if the first letter of the string is a capital B.  \n",
    "\n",
    "Now, you may be tempted to edit the code within the existing <code>changeCase()</code> function to add this functionlity, but as the <code>changeCase()</code> code is from your company's main library of functions, it's company policy that programmers cannot make changes to the actual code within those functions. Accordingly, you have chosen to <u>extend the functionality</u> of this function (without actually changing any of its code) by creating a decorator for the <code>changeCase()</code> function.\n",
    "\n",
    "Make sure your code has the @ symbol along with the name of the decorator function above the definition of the function to be decorated."
   ]
  },
  {
   "cell_type": "code",
   "execution_count": 18,
   "metadata": {},
   "outputs": [
    {
     "name": "stdout",
     "output_type": "stream",
     "text": [
      "Andrew\n",
      "andrew\n",
      "Bonjovi\n",
      "BONJOVI\n"
     ]
    }
   ],
   "source": [
    "# place decorator function code here\n",
    "\n",
    "def BchangeCase(changeCase):\n",
    "    def wrapperFuc(aString):\n",
    "        if aString[0] == 'B':\n",
    "            print(aString)\n",
    "            newString = aString.upper()\n",
    "            print(newString)\n",
    "        else:\n",
    "            changeCase(aString)\n",
    "    return wrapperFuc\n",
    "\n",
    "# function to be decorated\n",
    "@BchangeCase\n",
    "def changeCase(aString):\n",
    "    if aString[0] == 'A':                   # if first letter is an A, will change to all lowercase\n",
    "        print(aString)\n",
    "        newString = aString.lower()\n",
    "        return print(newString)\n",
    "    else:\n",
    "        return print(aString)\n",
    "\n",
    "    \n",
    "# function calls\n",
    "changeCase('Andrew')\n",
    "changeCase('Bonjovi')"
   ]
  },
  {
   "cell_type": "markdown",
   "metadata": {},
   "source": [
    "---\n",
    "<b>Problem #6:</b> xlwings #1\n",
    "\n",
    "See <code>Workbook HW4.xlsx: Worksheet ‘Sheet1’</code>.\n",
    "\n",
    "Write a Python program to turn every second cell in the greyed range in Sheet1 to have a background color of your own choosing (except white or grey).\n",
    "\n",
    "Hints:\n",
    ">+ You will need to loop over the cells within the range. In doing so, use the range.rows and range.columns attibutes.\n",
    ">+ To skip a counter value, an old programming goto is shown in next cell.\n",
    "\n",
    "\n",
    "<img src=\"img/P5.png\" alt=\"drawing\" height=\"100\" width=\"500\"/>\n"
   ]
  },
  {
   "cell_type": "code",
   "execution_count": 2,
   "metadata": {},
   "outputs": [
    {
     "name": "stdout",
     "output_type": "stream",
     "text": [
      "0\n",
      "2\n",
      "4\n",
      "6\n",
      "8\n"
     ]
    }
   ],
   "source": [
    "# tool\n",
    "for num in range(10):\n",
    "    if num % 2 == 0:\n",
    "        print(num) "
   ]
  },
  {
   "cell_type": "code",
   "execution_count": 7,
   "metadata": {},
   "outputs": [],
   "source": [
    "import xlwings as xw\n",
    "# write your code here\n",
    "wb = xw.Book(r'HW4.xlsx')\n",
    "\n",
    "sht = wb.sheets['Sheet1']\n",
    "colorCode = (255, 242, 204)\n",
    "GreyRange = sht.range('C4:F11')\n",
    "\n",
    "R = 4\n",
    "C = 3\n",
    "##sht.range('B2:D3').color = colorCode\n",
    "##sht.range('C4:C20').color = colorCode\n",
    "for column in GreyRange.columns:\n",
    "    R = 4\n",
    "    for row in GreyRange.rows:\n",
    "        if (R + C) % 2 == 1:\n",
    "            sht.range((R,C)).color = colorCode\n",
    "        R = R + 1\n",
    "    C = C + 1"
   ]
  },
  {
   "cell_type": "markdown",
   "metadata": {},
   "source": [
    "---\n",
    "<b>Problem #7:</b> xlwings #2\n",
    "\n",
    "See <code>Workbook HW4.xlsx: Worksheet ‘Sheet1’</code>.\n",
    "\n",
    "Write a program to <u>copy</u> the record of any student in the Class List area to the 'Students with grades of 90 or above' area if they satisfy this criteria: their grade is 90 or above.\n",
    "\n",
    "You will need to create a Range object for the Class List area in the spreadsheet.\n",
    "You will need to loop over the rows within this range.\n",
    "\n",
    "Focusing on the Grade column, once you find a row with a grade >90, copy the entire row to the 'output' area. To do this manually, you would likely copy-n-paste cells. Fortunately, the Range object has a copy() method. The syntax is: <code>Range.copy(destination)</code>\n",
    "\n",
    "It's unavoidable, but make cell H4 the destination range for your first copy. You can then use a counter to control the location of further copies (using the <code>Range.offset()</code>). \n"
   ]
  },
  {
   "cell_type": "code",
   "execution_count": 12,
   "metadata": {},
   "outputs": [],
   "source": [
    "# write your code here\n",
    "import xlwings as xw\n",
    "wb = xw.Book(r'HW4.xlsx')\n",
    "\n",
    "sht = wb.sheets['Sheet2']\n",
    "infor = sht.range('B4:D8')\n",
    "offset = 0\n",
    "for row in infor.rows:\n",
    "    if row.columns(3).value >= 90:\n",
    "        row.copy(row.offset(offset,6))\n",
    "    else:\n",
    "        offset = offset - 1\n",
    "\n"
   ]
  },
  {
   "cell_type": "markdown",
   "metadata": {},
   "source": [
    "---"
   ]
  },
  {
   "cell_type": "markdown",
   "metadata": {},
   "source": [
    "> Submit your Notebook through Canvas using the appropriate Assignment link.<br>\n",
    "---- end of homework ----"
   ]
  }
 ],
 "metadata": {
  "kernelspec": {
   "display_name": "Python 3 (ipykernel)",
   "language": "python",
   "name": "python3"
  },
  "language_info": {
   "codemirror_mode": {
    "name": "ipython",
    "version": 3
   },
   "file_extension": ".py",
   "mimetype": "text/x-python",
   "name": "python",
   "nbconvert_exporter": "python",
   "pygments_lexer": "ipython3",
   "version": "3.9.12"
  }
 },
 "nbformat": 4,
 "nbformat_minor": 2
}
