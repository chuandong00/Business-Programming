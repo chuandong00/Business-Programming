{
 "cells": [
  {
   "cell_type": "markdown",
   "metadata": {},
   "source": [
    "# HW6 - student worksheet\n",
    "    by Chuandong Liu\n",
    "This assignment is solely my work.\n",
    "<hr size=\"5\"/>\n",
    "<!DOCTYPE html>Focus: Lessons 12 & 13.\n",
    "<html>\n"
   ]
  },
  {
   "cell_type": "markdown",
   "metadata": {},
   "source": [
    "# Preparation\n",
    "\n",
    "- Before attempting this homework, students should have read Severance <b>Chapters 1-8, 11 & 15</b> (Chp. 15 is for reference only) and the relevant lecture notes.<br>\n",
    "- Save and name your Jupyter Notebook  using the following naming convention. <br>\n",
    "\n",
    "&nbsp;&nbsp;&nbsp;&nbsp;&nbsp;&nbsp;&nbsp;&nbsp;&nbsp;&nbsp;&nbsp;&nbsp;FirstName_LastName_HW6.ipynb\n",
    "\n",
    "&nbsp;&nbsp;&nbsp;&nbsp;&nbsp;&nbsp;&nbsp;&nbsp;&nbsp;&nbsp;&nbsp; For example: George_Burdell_HW6.ipynb\n",
    "\n",
    "---\n",
    "Note: if the images do not render correctly (they must be included in a sub-directory img), then you can access them in the sub-directory img. "
   ]
  },
  {
   "cell_type": "markdown",
   "metadata": {},
   "source": [
    "<b>Problem #1:</b> lists & regex\n",
    "\n",
    "Write a program that uses a single regular expression to <u>extract</u> from the text file <i>Words&Numbers.txt</i> the sub-strings as shown in the <i>Extracted sub-string</i> column below. Store all the extracted sub-strings in a single <u>list</u> object. Print out the contents of your list.\n",
    "\n",
    "<img src=\"img/P1.png\" alt=\"drawing\" height=\"300\" width=\"500\"/>\n"
   ]
  },
  {
   "cell_type": "code",
   "execution_count": 10,
   "metadata": {},
   "outputs": [
    {
     "name": "stdout",
     "output_type": "stream",
     "text": [
      "['2399', '123.456', '123,456.789', '123.456', '432.198']\n"
     ]
    }
   ],
   "source": [
    "import re\n",
    "myText = open('Words&Numbers.txt')\n",
    "listValues = []\n",
    "for line in myText:\n",
    "    line = line.rstrip()\n",
    "    if re.search('[0-9.]+', line):\n",
    "        ms = re.search('[0-9,.]+', line)\n",
    "        listValues.append(ms.group())\n",
    "print(listValues)"
   ]
  },
  {
   "cell_type": "markdown",
   "metadata": {},
   "source": [
    "---\n",
    "<b>Problem #2:</b> text and lists\n",
    "\n",
    "Adapt your program from Problem 1 to update your list to reflect the following requirements:\n",
    "\n",
    "* remove any thousand separators (i.e., commas) from the extracted values (using an approriate <u>string</u> function).\n",
    "* change the data type of the values to float.\n",
    "* round the float values to 2 decimal places using <code>round()</code>.\n",
    "* print out the individual number using f-strings with commas as thousand separators (see https://stackoverflow.com/questions/1823058/how-to-print-number-with-commas-as-thousands-separators )\n",
    "\n",
    "Print out the contents of your final list."
   ]
  },
  {
   "cell_type": "code",
   "execution_count": 19,
   "metadata": {},
   "outputs": [
    {
     "name": "stdout",
     "output_type": "stream",
     "text": [
      "['2399', '123.456', '123,456.789', '123.456', '432.198']\n",
      "['2399', '123.456', '123456.789', '123.456', '432.198']\n",
      "floats=> [2399.0, 123.456, 123456.789, 123.456, 432.198]\n",
      "rounded=> [2399.0, 123.46, 123456.79, 123.46, 432.2]\n",
      "\n",
      "Individual numbers:\n",
      "2,399.0\n",
      "123.46\n",
      "123,456.79\n",
      "123.46\n",
      "432.2\n"
     ]
    }
   ],
   "source": [
    "import re\n",
    "myText = open('Words&Numbers.txt')\n",
    "listValues = []\n",
    "for line in myText:\n",
    "    line = line.rstrip()\n",
    "    if re.search('[0-9.]+', line):\n",
    "        ms = re.search('[0-9,.]+', line)\n",
    "        listValues.append(ms.group())\n",
    "print(listValues)\n",
    "\n",
    "for i in range(len(listValues)):\n",
    "    listValues[i] = listValues[i].replace(',','')\n",
    "print(listValues)\n",
    "\n",
    "for i in range(len(listValues)):\n",
    "    listValues[i] = float(listValues[i])\n",
    "print(\"floats=>\", listValues)\n",
    "\n",
    "for i in range(len(listValues)):\n",
    "    listValues[i] = round(listValues[i], 2)\n",
    "print(\"rounded=>\", listValues)\n",
    "\n",
    "print()\n",
    "print(\"Individual numbers:\")\n",
    "for i in range(len(listValues)):\n",
    "    print(f\"{listValues[i]:,}\")"
   ]
  },
  {
   "cell_type": "markdown",
   "metadata": {},
   "source": [
    "---\n",
    "<b>Problem #3:</b> regex 2\n",
    "\n",
    "Note: If you use the regex editor to design your modified regex, do not forget to change the mode to global & multi-line in the regex editor.\n",
    "\n",
    "In the below image, there are four names. The following regular expression matches the first two and last names.\n",
    "\n",
    "<code>^\\w{3,}\\s(\\w\\s)?\\w{3,}</code>\n",
    "\n",
    "<img src=\"img/P3A.png\" alt=\"drawing\" height=\"160\" width=\"300\"/>\n",
    "\n",
    "Note: while the above regex expression was authored to also match other names of interest (not shown), you can focus on just the 4 example names.\n",
    "\n",
    "Modify the above regex expression to result in only the following matches:\n",
    "\n",
    "<img src=\"img/P3B.png\" alt=\"drawing\" height=\"80\" width=\"150\"/>\n",
    "\n",
    "Then incorporate the regex into a program to search for the regex - so, use <code>re.search()</code>. <br>\n",
    "Iterate over the names, and if the regex is not found, print 'No match found'. If found, print the match object."
   ]
  },
  {
   "cell_type": "code",
   "execution_count": 21,
   "metadata": {
    "scrolled": true
   },
   "outputs": [
    {
     "name": "stdout",
     "output_type": "stream",
     "text": [
      "\n",
      "John Doe\n",
      "<re.Match object; span=(0, 8), match='John Doe'>\n",
      "\n",
      "John M Doe\n",
      "No match found\n",
      "\n",
      "John Mr Doe\n",
      "<re.Match object; span=(0, 11), match='John Mr Doe'>\n",
      "\n",
      "John Deere\n",
      "<re.Match object; span=(0, 10), match='John Deere'>\n"
     ]
    }
   ],
   "source": [
    "'''\n",
    "John Doe\n",
    "John M Doe\n",
    "John Mr Doe\n",
    "John Deere\n",
    "^\\w{3,}\\s(\\w\\s)?\\w{3,}\n",
    "''' \n",
    "import re\n",
    "myText = open('Johns.txt')\n",
    "listValues = []\n",
    "for line in myText:\n",
    "    line = line.rstrip()\n",
    "    print()\n",
    "    print(line)\n",
    "    if re.search('^\\w{3,}\\s(\\w{2,}\\s)?\\w{3,}', line):\n",
    "        print(re.search('^\\w{3,}\\s(\\w{2,}\\s)?\\w{3,}', line))\n",
    "    else:\n",
    "        print(\"No match found\")"
   ]
  },
  {
   "cell_type": "markdown",
   "metadata": {},
   "source": [
    "---\n",
    "<b>Problem #4:</b> regex 3\n",
    "\n",
    "The file <i>UntidySQL.txt</i> contains the text of some SQL statements. Note: Completing this question does not require any knowledge of SQL.\n",
    "\n",
    "We wish to 'tidy-up' this text by performing some operations:\n",
    "### Part 1 (using str functions)\n",
    "You can find information about str methods here: <https://www.w3schools.com/python/python_ref_string.asp>\n",
    "* remove all underscore characters (using an approriate <u>string</u> function).\n",
    "* remove any new line chrs   (Note: new line chrs. by default are hidden by a text editor. However, most better text editors - e.g. Notepad++ - you can show all symbols and reveal them.)\n",
    "* remove all tab chracters\n",
    "* remove any leading whitespace\n",
    "* remove any trailing whitespace\n",
    "* remove all occurrences of the word INNER\n",
    "* change all characters to lower case\n",
    "\n",
    "### Part 2 (using regex)\n",
    "* remove any additional whitespaces (i.e., extra whitespace in addition to a single space). Hint: use <code>re.sub()</code>\n",
    "* remove spaces around any relational operators. Hint: use <code>re.sub()</code> with backreferences\n",
    ">* 1 chr: >, <, = \n",
    ">* 2 chr: !=, ==, <=, >=\n",
    "* remove spaces before numbers [find numbers but replace around] Hint: use <code>re.sub()</code> with backreferences\n",
    "* remove spaces around * character. Hint: use <code>re.sub()</code> with backreferences\n",
    "\n",
    "Once tidied-up, print the updated SQL text."
   ]
  },
  {
   "cell_type": "code",
   "execution_count": 35,
   "metadata": {
    "scrolled": false
   },
   "outputs": [
    {
     "name": "stdout",
     "output_type": "stream",
     "text": [
      "Starting Text:\n"
     ]
    },
    {
     "data": {
      "text/plain": [
       "\"SELECT order_items.order_id, SUM(order_items.list_price * (1-order_items.discount) * order_items.quantity) as gross_sale\\nFROM order_items, orders, products, product_description\\nGROUP BY order_items.order_id\\nORDER BY gross_sale DESC\\nLIMIT 10 SELECT orderitems.orderid, orderitems.listprice * orderitems.quantity * (1 - orderitems.discount) AS 'order total' FROM orderitems ORDER BY orderitems.listprice * orderitems.quantity * orderitems.discount DESC\\nSELECT orderitems.orderid, SUM((orderitems.listprice - (orderitems.listprice * orderitems.discount)) * orderitems.quantity) AS ordertotals\\n\\tFROM orderitems\\n    GROUP BY orderitems.orderid\\n    ORDER BY ordertotals DESC\\n\""
      ]
     },
     "execution_count": 35,
     "metadata": {},
     "output_type": "execute_result"
    },
    {
     "name": "stdout",
     "output_type": "stream",
     "text": [
      "Part 1 Result:\n"
     ]
    },
    {
     "data": {
      "text/plain": [
       "\"select orderitems.orderid, sum(orderitems.listprice * (1-orderitems.discount) * orderitems.quantity) as grosssale from orderitems, orders, products, productdescription group by orderitems.orderid order by grosssale desc limit 10 select orderitems.orderid, orderitems.listprice * orderitems.quantity * (1 - orderitems.discount) as 'order total' from orderitems order by orderitems.listprice * orderitems.quantity * orderitems.discount desc select orderitems.orderid, sum((orderitems.listprice - (orderitems.listprice * orderitems.discount)) * orderitems.quantity) as ordertotals from orderitems     group by orderitems.orderid     order by ordertotals desc\""
      ]
     },
     "execution_count": 35,
     "metadata": {},
     "output_type": "execute_result"
    },
    {
     "name": "stdout",
     "output_type": "stream",
     "text": [
      "Part 2 Result:\n"
     ]
    },
    {
     "data": {
      "text/plain": [
       "\"select orderitems.orderid, sum(orderitems.listprice*(1-orderitems.discount)*orderitems.quantity) as grosssale from orderitems, orders, products, productdescription group by orderitems.orderid order by grosssale desc limit10 select orderitems.orderid, orderitems.listprice*orderitems.quantity*(1 - orderitems.discount) as 'order total' from orderitems order by orderitems.listprice*orderitems.quantity*orderitems.discount desc select orderitems.orderid, sum((orderitems.listprice - (orderitems.listprice*orderitems.discount))*orderitems.quantity) as ordertotals from orderitems group by orderitems.orderid order by ordertotals desc\""
      ]
     },
     "execution_count": 35,
     "metadata": {},
     "output_type": "execute_result"
    }
   ],
   "source": [
    "# utility code\n",
    "from IPython.core.interactiveshell import InteractiveShell\n",
    "InteractiveShell.ast_node_interactivity = \"all\"     # keep history of console output - so no need to use print()\n",
    "\n",
    "import re\n",
    "\n",
    "hdl = open('UntidySQL.txt')\n",
    "SQLText = hdl.read()\n",
    "print('Starting Text:')\n",
    "SQLText\n",
    "\n",
    "# write code here\n",
    "# Hint: options include replace(), lstrip(), rstrip()\n",
    "print('Part 1 Result:')\n",
    "SQLText = SQLText.replace('_','')\n",
    "SQLText = SQLText.replace('\\n',' ')\n",
    "SQLText = SQLText.replace('\\t','')\n",
    "SQLText = SQLText.lstrip()\n",
    "SQLText = SQLText.rstrip()\n",
    "SQLText = SQLText.replace('INNER','')\n",
    "SQLText = SQLText.lower()\n",
    "SQLText\n",
    "# write code here\n",
    "# Hint: use re.sub()\n",
    "print('Part 2 Result:')\n",
    "SQLText = re.sub('\\s{2,}', ' ', SQLText)\n",
    "SQLText = re.sub('(\\s)(>)(\\s)', r'\\2', SQLText)\n",
    "SQLText = re.sub('(\\s)(<)(\\s)', r'\\2', SQLText)\n",
    "SQLText = re.sub('(\\s)(=)(\\s)', r'\\2', SQLText)\n",
    "SQLText = re.sub('(\\s)(!=)(\\s)', r'\\2', SQLText)\n",
    "SQLText = re.sub('(\\s)(==)(\\s)', r'\\2', SQLText)\n",
    "SQLText = re.sub('(\\s)(<=)(\\s)', r'\\2', SQLText)\n",
    "SQLText = re.sub('(\\s)(>=)(\\s)', r'\\2', SQLText)\n",
    "SQLText = re.sub('(\\s)(\\d)', r'\\2', SQLText)\n",
    "SQLText = re.sub('(\\s)(\\*)(\\s)', r'\\2', SQLText)\n",
    "SQLText"
   ]
  },
  {
   "cell_type": "markdown",
   "metadata": {},
   "source": [
    "---\n",
    "<b>Problem #5:</b> lists\n",
    "\n",
    "Write a program that prompts the user for a list of numbers (the number of numbers entered may vary with each program execution). The entered numbers are stored in a list. After all the numbers have been entered, use the <code>max()</code> and <code>min()</code> functions to compute the maximum and minimum numbers and print them out, as below."
   ]
  },
  {
   "cell_type": "code",
   "execution_count": 3,
   "metadata": {
    "scrolled": true
   },
   "outputs": [
    {
     "name": "stdout",
     "output_type": "stream",
     "text": [
      "Enter a number: 44\n",
      "Enter a number: 55\n",
      "Enter a number: 22\n",
      "Enter a number: 12\n",
      "Enter a number: 87\n",
      "Enter a number: 32\n",
      "Enter a number: done\n",
      "Maximum: 87\n",
      "Minimum: 12\n"
     ]
    }
   ],
   "source": [
    "# write code here\n",
    "listOfNums = []\n",
    "num = input(\"Enter a number: \")\n",
    "while num != \"done\":\n",
    "    listOfNums.append(int(num))\n",
    "    num = input(\"Enter a number: \")\n",
    "print(\"Maximum:\", max(listOfNums))\n",
    "print(\"Minimum:\", min(listOfNums))"
   ]
  },
  {
   "cell_type": "markdown",
   "metadata": {},
   "source": [
    "---\n",
    "<b>Problem #6:</b> lists\n",
    "\n",
    "Reperform Problem #5 (enter the numbers in the order as shown below), but this time also use a <u>list comprehension expression</u> to create a new list after the numbers have been entered. Members of the new list will only be the numbers that are greater than the mean of all numbers that have been entered. Before displaying the final list, ensure it is ordered with the lowest number being shown first."
   ]
  },
  {
   "cell_type": "code",
   "execution_count": 8,
   "metadata": {
    "scrolled": false
   },
   "outputs": [
    {
     "name": "stdout",
     "output_type": "stream",
     "text": [
      "Enter a number: 87\n",
      "Enter a number: 55\n",
      "Enter a number: 22\n",
      "Enter a number: 32\n",
      "Enter a number: 44\n",
      "Enter a number: 12\n",
      "Enter a number: done\n",
      "[44, 55, 87]\n"
     ]
    }
   ],
   "source": [
    "import statistics as st\n",
    "\n",
    "listOfNums = []\n",
    "num = input(\"Enter a number: \")\n",
    "while num != \"done\":\n",
    "    listOfNums.append(int(num))\n",
    "    num = input(\"Enter a number: \")\n",
    "result = [num for num in listOfNums if num > st.mean(listOfNums)]\n",
    "print(sorted(result))"
   ]
  },
  {
   "cell_type": "markdown",
   "metadata": {},
   "source": [
    "---"
   ]
  },
  {
   "cell_type": "markdown",
   "metadata": {},
   "source": [
    "> Submit your Notebook through Canvas using the appropriate Assignment link.<br>\n",
    "---- end of homework ----"
   ]
  }
 ],
 "metadata": {
  "kernelspec": {
   "display_name": "Python 3 (ipykernel)",
   "language": "python",
   "name": "python3"
  },
  "language_info": {
   "codemirror_mode": {
    "name": "ipython",
    "version": 3
   },
   "file_extension": ".py",
   "mimetype": "text/x-python",
   "name": "python",
   "nbconvert_exporter": "python",
   "pygments_lexer": "ipython3",
   "version": "3.9.12"
  }
 },
 "nbformat": 4,
 "nbformat_minor": 2
}
