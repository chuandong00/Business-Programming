{
 "cells": [
  {
   "cell_type": "markdown",
   "metadata": {},
   "source": [
    "# HW2 - student worksheet\n",
    "    by Chuandong Liu\n",
    "This assignment is solely my work.\n",
    "<hr size=\"5\"/>\n",
    "<!DOCTYPE html>Focus: Lessons 4 & 5.\n",
    "<html>\n"
   ]
  },
  {
   "cell_type": "markdown",
   "metadata": {},
   "source": [
    "# Preparation\n",
    "\n",
    "- Before attempting this homework, students should have read Severance Chapters 1-3,& 5 and the relevant lecture notes.<br>\n",
    "- Save and name your Jupyter Notebook  using the following naming convention. <br>\n",
    "\n",
    "&nbsp;&nbsp;&nbsp;&nbsp;&nbsp;&nbsp;&nbsp;&nbsp;&nbsp;&nbsp;&nbsp;&nbsp;FirstName_LastName_HW2.ipynb\n",
    "\n",
    "&nbsp;&nbsp;&nbsp;&nbsp;&nbsp;&nbsp;&nbsp;&nbsp;&nbsp;&nbsp;&nbsp; For example: George_Burdell_HW2.ipynb\n",
    "\n",
    "---"
   ]
  },
  {
   "cell_type": "markdown",
   "metadata": {},
   "source": [
    "<b>Problem #1:</b> Fuel\n",
    ">+ The variables <i>FuelAmount</i> and <i>FuelCapacity</i> hold the actual amount of fuel and the size of the fuel tank of a vehicle. If less than 10 percent is remaining in the tank, a status light should show a red color; otherwise it shows a green color. \n",
    ">+ Simulate this process by displaying either the word \"red\" or \"green\".\n",
    ">>use <code>input()</code> to prompt the user to enter the required values"
   ]
  },
  {
   "cell_type": "code",
   "execution_count": 9,
   "metadata": {},
   "outputs": [
    {
     "name": "stdout",
     "output_type": "stream",
     "text": [
      "Amount of fuel left? 100\n",
      "Fuel capacity? 1200\n",
      "red\n"
     ]
    }
   ],
   "source": [
    "# Request inputs from the user\n",
    "\n",
    "\n",
    "# Determine output\n",
    "\n"
   ]
  },
  {
   "cell_type": "markdown",
   "metadata": {},
   "source": [
    "---\n",
    "<b>Problem #2:</b> Shipping Costs\n",
    ">+ Debug the following program to get it to run without throwing a syntax error. \n",
    "\n",
    "Note: There is also a single logic error. You can fix that error by deleting the relevant statement/s, as you see fit. <br>\n",
    "Note: There is no need to add try/except to catch incorrect country code input."
   ]
  },
  {
   "cell_type": "code",
   "execution_count": 7,
   "metadata": {},
   "outputs": [],
   "source": [
    "country = str(input('Please enter your country (US or AU): ')) \n",
    "pkgCost = int(input('Please enter your package cost: '))   # assume dealing with costs as integers\n",
    "\n",
    "if country == \"US\"\n",
    "    if pkgCost <= 50:\n",
    "        print(\"Shipping Cost is $50\")\n",
    "    elif pkgCost >= 100:\n",
    "        print(\"Shipping Cost is $25\")\n",
    "    elif pkgCost <= 150\n",
    "    print(\"Shipping Costs $5\")\n",
    "    else:\n",
    "        print(\"FREE\")\n",
    "\n",
    "if country == \"AU\":\n",
    "    if pkgCost <= 50:\n",
    "        print(\"Shipping Cost is  $100\")\n",
    "    else pkgCost <= 100:\n",
    "        print(\"Shipping Cost is  $300\")\n",
    "    else:\n",
    "        print(\"FREE\")"
   ]
  },
  {
   "cell_type": "markdown",
   "metadata": {},
   "source": [
    "---\n",
    "<b>Problem #3:</b> Tax\n",
    ">+ In the United States, different tax rates are used depending on the taxpayer’s marital status. There are different tax schedules for single and for married taxpayers.\n",
    ">+ Married taxpayers add their income together and pay taxes on the total. The below table gives the tax rate computations, using a simplification of the schedules for the 2019 tax year. A different tax rate applies to each “bracket”.\n",
    ">+ The income limits for each bracket depend on the marital status.\n",
    " \n",
    "<img src=\"img/TaxSchedule.png\" alt=\"drawing\" height=\"450\" width=\"500\"/>\n",
    "\n",
    "&nbsp;&nbsp;&nbsp;&nbsp;&nbsp;&nbsp; Note: If this image is not rendering properly, see the img directory of the unzipped file you downloaded for this homework. \n",
    "\n",
    ">+ Write a program that will compute a taxpayer’s tax, reflecting the above taxation rules.\n",
    "\n",
    "Test your program with the following input values:\n",
    "      - Single, Income \\\\$35,000\n",
    "      - Single, Income \\\\$90,000\n",
    "      - Married. Income \\\\$40,000\n",
    "      - Married. Income \\\\$100,000 (as shown)"
   ]
  },
  {
   "cell_type": "code",
   "execution_count": 1,
   "metadata": {},
   "outputs": [
    {
     "name": "stdout",
     "output_type": "stream",
     "text": [
      "Please enter your income: 100000\n",
      "Please enter s for single and m for married: m\n",
      "The tax is $13164\n"
     ]
    }
   ],
   "source": [
    "income = int(input(\"Please enter your income: \"))\n",
    "status = input(\"Please enter s for single and m for married: \")\n",
    "\n"
   ]
  },
  {
   "cell_type": "markdown",
   "metadata": {},
   "source": [
    "---\n",
    "<b>Problem #4:</b> Banking Balance\n",
    "\n",
    ">+ Write a program that will calculate interest on a bank deposit and add that interest to the account’s balance. Assume the initial deposit is \\\\$10,000 (year 0).\n",
    ">+ Your program should reflect the following pseudocode description of this logic:\n",
    "\n",
    "&nbsp;&nbsp;&nbsp;Repeat the following steps while the balance is less than $20,000.<br>\n",
    " &nbsp;&nbsp;&nbsp;&nbsp;&nbsp;&nbsp;&nbsp;&nbsp; Add 1 to the year value. <br>\n",
    " &nbsp;&nbsp;&nbsp;&nbsp;&nbsp;&nbsp;&nbsp;&nbsp; Compute the interest as balance x 0.05 (i.e., 5 percent interest). <br>\n",
    " &nbsp;&nbsp;&nbsp;&nbsp;&nbsp;&nbsp;&nbsp;&nbsp; Add the interest to the balance.\n",
    "\n",
    ">+ When the loop finishes, print the final year balance and the number of years it took to reach $20,000 (assuming no withdrawals). \n",
    ">+ In your output, print appropriate labels (text) to make clear what the output values refer to. \n",
    ">+ Round the final-year balance in the output to 2 decimal places. Note: you'll need to Google this.\n"
   ]
  },
  {
   "cell_type": "code",
   "execution_count": 1,
   "metadata": {},
   "outputs": [
    {
     "name": "stdout",
     "output_type": "stream",
     "text": [
      "The final year balance is $ 20789.28\n",
      "The number of years it took to reach $20,000 is 15 years\n"
     ]
    }
   ],
   "source": [
    "\n",
    "\n"
   ]
  },
  {
   "cell_type": "markdown",
   "metadata": {},
   "source": [
    "---\n",
    "<b>Problem #5:</b> Find the largest number\n",
    ">+ Write a program that prints the highest number in the list object named: numList.\n",
    "\n",
    "Note: do <u>not</u> use <code>max()</code> as this is an exercise to practice looping. <br>\n",
    "Note: in a later lesson we will look more closely at the list data structure. In short: a list instance (list object) is a sequence (ordered set) of elements (also called items). Notice the elements of a list are 'wrapped' within [ ]."
   ]
  },
  {
   "cell_type": "code",
   "execution_count": 2,
   "metadata": {},
   "outputs": [],
   "source": [
    "numList = [33, 55, 22, 11, 88, 44, 33, 22]                   # this is a list (of integers)\n",
    "\n"
   ]
  },
  {
   "cell_type": "markdown",
   "metadata": {},
   "source": [
    "---\n",
    "<b>Problem #6:</b> Forthcoming temperature\n",
    ">+ Download the file <i>ATLForecast.dat</i> from canvas. You may wish to open it to inspect the contents (then close the file to ensure no file locking implications). \n",
    ">+ The <i>ATLForecast.dat</i> file contains the minimum forecast temperature for the 14 days in Atlanta (we will assume that we are presently in late summer). \n",
    ">+ Write a program that loops through ALL the values within this file and tests whether each value is more or less than 64 or 65 degrees, as shown in the example output below.\n",
    "\n",
    "Note: at this stage, do not be concerned about what-is numpy (all will be explained in a later lesson). We will use the <code>loadtext</code> function in this package to load the text data."
   ]
  },
  {
   "cell_type": "code",
   "execution_count": 1,
   "metadata": {},
   "outputs": [
    {
     "name": "stdout",
     "output_type": "stream",
     "text": [
      "temperatureData=  [70. 69. 71. 66. 60. 61. 63. 65. 67. 66. 65. 65. 64. 63.]\n"
     ]
    }
   ],
   "source": [
    "import numpy as np                                 # we will use a numpy function to load the dat file\n",
    "temperatureData = np.loadtxt('ATLForecast.dat')    # ensure this file is in the same directory as this notebook\n",
    "print(\"temperatureData= \", temperatureData)        # display the contents of the imported data\n",
    "day = 1\n",
    "\n",
    "\n"
   ]
  },
  {
   "cell_type": "markdown",
   "metadata": {},
   "source": [
    "---\n",
    "<b>Problem #7:</b> Temperature Change\n",
    ">+ We will again use the <i>ATLForecast.dat</i> file.\n",
    ">+ Write a program that will loop through the values within this file and print the change in temperature\n",
    ">+ The aim of this question is to practice indexing. Therefore, for this question, refer to the index position of the current temperature reading, and take away the temperature reading immediately before it in the series. However, do not do this for the first value, as there is no immediately preceeding value."
   ]
  },
  {
   "cell_type": "code",
   "execution_count": 2,
   "metadata": {
    "scrolled": true
   },
   "outputs": [
    {
     "name": "stdout",
     "output_type": "stream",
     "text": [
      "Temp  Index  Change\n"
     ]
    }
   ],
   "source": [
    "import numpy as np\n",
    "temperatureData = np.loadtxt('ATLForecast.dat')\n",
    "print(\"Temp \", \"Index \", \"Change\" )\n",
    "\n"
   ]
  },
  {
   "cell_type": "markdown",
   "metadata": {},
   "source": [
    "---\n",
    "<b>Problem #8:</b> Highest GPA\n",
    ">+ Your firm has an open position and has received several job applications. The data has been stored in a List.\n",
    ">+ Write a program that will print out the highest applicant’s name and their GPA. "
   ]
  },
  {
   "cell_type": "code",
   "execution_count": 22,
   "metadata": {},
   "outputs": [
    {
     "name": "stdout",
     "output_type": "stream",
     "text": [
      "Student Bernis has the highest GPA which is 3.8\n"
     ]
    }
   ],
   "source": [
    "GPAs = ['John', 3.3, 'Sally', 2.2, 'Bernis', 3.8, 'Fred', 3.2, 'Victoria', 3.4, 'Valerie', 2.6, 'Eric', 2.6] # the is a list\n",
    "MaxGPA = 0\n",
    "\n"
   ]
  },
  {
   "cell_type": "markdown",
   "metadata": {},
   "source": [
    "---\n",
    "<b>Problem #9:</b> Range\n",
    ">+ Use the range function to create a sequence that you can interate over to produce the following output."
   ]
  },
  {
   "cell_type": "code",
   "execution_count": 28,
   "metadata": {},
   "outputs": [
    {
     "name": "stdout",
     "output_type": "stream",
     "text": [
      "index 9 is:  1.9\n",
      "index 7 is:  3.3\n",
      "index 5 is:  2.6\n"
     ]
    }
   ],
   "source": [
    "dataPts = [3.3, 2.2, 3.8, 3.2, 3.4, 2.6, 2.6, 3.3, 4.0, 1.9, 3.4, 3.6]      # this is a list (of floats)\n",
    "\n"
   ]
  },
  {
   "cell_type": "markdown",
   "metadata": {},
   "source": [
    "---"
   ]
  },
  {
   "cell_type": "markdown",
   "metadata": {},
   "source": [
    "> Submit your Notebook through Canvas using the appropriate Assignment link.<br>\n",
    "---- end of homework ----"
   ]
  }
 ],
 "metadata": {
  "kernelspec": {
   "display_name": "Python 3 (ipykernel)",
   "language": "python",
   "name": "python3"
  },
  "language_info": {
   "codemirror_mode": {
    "name": "ipython",
    "version": 3
   },
   "file_extension": ".py",
   "mimetype": "text/x-python",
   "name": "python",
   "nbconvert_exporter": "python",
   "pygments_lexer": "ipython3",
   "version": "3.9.12"
  }
 },
 "nbformat": 4,
 "nbformat_minor": 2
}
