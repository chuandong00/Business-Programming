{
 "cells": [
  {
   "cell_type": "markdown",
   "metadata": {},
   "source": [
    "# HW3 - student worksheet\n",
    "    by Chuandong Liu\n",
    "This assignment is solely my work.\n",
    "<hr size=\"5\"/>\n",
    "<!DOCTYPE html>Focus: Lessons 6 & 7.\n",
    "<html>\n"
   ]
  },
  {
   "cell_type": "markdown",
   "metadata": {},
   "source": [
    "# Preparation\n",
    "\n",
    "- Before attempting this homework, students should have read Severance Chapters 1-5 (i.e., now including Chapter 4 on Functions) and the relevant lecture notes.<br>\n",
    "- Save and name your Jupyter Notebook  using the following naming convention. <br>\n",
    "\n",
    "&nbsp;&nbsp;&nbsp;&nbsp;&nbsp;&nbsp;&nbsp;&nbsp;&nbsp;&nbsp;&nbsp;&nbsp;FirstName_LastName_HW3.ipynb\n",
    "\n",
    "&nbsp;&nbsp;&nbsp;&nbsp;&nbsp;&nbsp;&nbsp;&nbsp;&nbsp;&nbsp;&nbsp; For example: George_Burdell_HW3.ipynb\n",
    "\n",
    "---"
   ]
  },
  {
   "cell_type": "markdown",
   "metadata": {},
   "source": [
    "---\n",
    "<b>Problem #1:</b> More on <code>range()</code>\n",
    ">+ Provide an equivalent Python range expression for each of the following integer sequences."
   ]
  },
  {
   "cell_type": "code",
   "execution_count": 6,
   "metadata": {},
   "outputs": [
    {
     "name": "stdout",
     "output_type": "stream",
     "text": [
      "1\n",
      "2\n",
      "3\n",
      "4\n",
      "5\n"
     ]
    }
   ],
   "source": [
    "# code you can use to check what sequence of integers are produced by your range()\n",
    "\n",
    "rangeValues = range(1, 6, 1)\n",
    "\n",
    "for i in rangeValues:\n",
    "    print(i)"
   ]
  },
  {
   "cell_type": "code",
   "execution_count": null,
   "metadata": {},
   "outputs": [],
   "source": [
    "# range(start, stop, step)\n",
    "\n",
    "#=> 1, 2, 3, 4, 5\n",
    "range(1, 6)\n",
    "\n",
    "#=> 5, 4, 3, 2, 1\n",
    "range(5, 0, -1)\n",
    "\n",
    "#=> 5, 10, 15, 20, 25, 30\n",
    "range(5, 31, 5)\n",
    "\n",
    "#=> 30, 25, 20, 15, 10, 5\n",
    "range(30, 4, -5)\n",
    "\n",
    "#=> −3, −2, −1, 0, 1, 2, 3\n",
    "range(-3, 4)\n",
    "\n",
    "#=> 3, 2, 1, 0, −1, −2, −3\n",
    "range(3, -4, -1)\n",
    "\n",
    "#=> −50, −40, −30, −20, −10\n",
    "range(-50, 0, 10)"
   ]
  },
  {
   "cell_type": "markdown",
   "metadata": {},
   "source": [
    "---\n",
    "<b>Problem #2:</b> Function 1\n",
    ">+ Write a <u>function</u> that takes in two numbers, divides them, and displays the result to the user. After you have written the function, please include a ‘call’ within your code so the function is executed.\n",
    "\n",
    "Programming hints: <br>\n",
    "* Initially, perfect your code outside a function. A function is a container for debugged code, so do the writing and debugging first – and once perfected, package it within a function.\n",
    "* Also, if you choose to prompt the user for input, add any <code>input()</code> statements later – so, initially hard-code in the values as this will simplify the debugging process. You can always add any <code>input()</code> functions later (which for this question are optional)."
   ]
  },
  {
   "cell_type": "code",
   "execution_count": 5,
   "metadata": {},
   "outputs": [
    {
     "data": {
      "text/plain": [
       "1.5"
      ]
     },
     "execution_count": 5,
     "metadata": {},
     "output_type": "execute_result"
    }
   ],
   "source": [
    "def division(i, j):\n",
    "    print(\"The result of\", i, \"divided by\", j, \"is\", i/j)\n",
    "\n",
    "i = input(\"Please type in the dividend: \")\n",
    "j = input(\"Please type in the divisor: \")\n",
    "division(i, j)"
   ]
  },
  {
   "cell_type": "markdown",
   "metadata": {},
   "source": [
    "---\n",
    "<b>Problem #3:</b> Function 2\n",
    ">+ Write a <u>function</u> that prints out a message ‘I am from’ the country entered. If no value is supplied to the function, the default value will be United States.\n",
    ">+ Before the function is called, prompt the user for their nationality and pass this value to the function. \n",
    "\n",
    " * Note: for this question do not use default arguments"
   ]
  },
  {
   "cell_type": "code",
   "execution_count": 6,
   "metadata": {},
   "outputs": [
    {
     "name": "stdout",
     "output_type": "stream",
     "text": [
      "Where are you from? Australia\n",
      "I am from Australia\n"
     ]
    }
   ],
   "source": [
    "def nation_message(nation):\n",
    "    if nation != '':\n",
    "        print(\"I am from\", nation)\n",
    "    else:\n",
    "        print(\"I am from United States\")\n",
    "        \n",
    "nation = input(\"Where are you from? \")\n",
    "nation_message(nation)"
   ]
  },
  {
   "cell_type": "markdown",
   "metadata": {},
   "source": [
    "---\n",
    "<b>Problem #4:</b> Function 3\n",
    ">+ Prompt the user separately for their first name and their last name. Then pass both these pieces of information to a <u>function</u> which will concatenate the two values and return the result.\n",
    ">+\n",
    "Note: Concatenate the strings (first/last name) within the function. But you can elect to have the print statement within the function itself (thereby the function does not need a return keyword) OR you can elect to 'return' the concatenated string back to the main program flow and have it printed out there.\n",
    "\n",
    "Notes: We have not yet specifically covered how to <u>concatenate strings</u>. Therefore, please do some research to find how this can be done."
   ]
  },
  {
   "cell_type": "code",
   "execution_count": 7,
   "metadata": {},
   "outputs": [
    {
     "name": "stdout",
     "output_type": "stream",
     "text": [
      "What is your first name? Adrian\n",
      "What is your last name? Gardiner\n",
      "Adrian Gardiner\n"
     ]
    }
   ],
   "source": [
    "def concatenate(a, b):\n",
    "    return a + \" \" + b\n",
    "\n",
    "first_name = input(\"What is your first name? \")\n",
    "last_name = input(\"What is your last name? \")\n",
    "print(concatenate(first_name, last_name))"
   ]
  },
  {
   "cell_type": "markdown",
   "metadata": {},
   "source": [
    "---\n",
    "<b>Problem #5:</b> GIT Sports\n",
    "\n",
    "GIT Sports is a sports footwear startup which currently sells just one shoe brand, GIT Jump. \n",
    "\n",
    "The sales price in the US is <b>\\\\$120</b> and variable costs per unit is <b>$70</b>. For sales in other countries (Germany, United Kingdom, and Australia), the sales price and variable costs are the same, but in the local currency - e.g., in the UK, the sales price is <b>£120</b> and the variable costs per unit are <b>£70</b>.\n",
    "\n",
    "The calculation for the <b>Total Contribution Margin</b> = Units sold × (Sales price – Variable cost per unit). \n",
    "\n",
    "When this program runs, the user will be prompted for two things: <br>\n",
    "* Which country is this program running in [AUS, GER, IT, UK, US]? <br>\n",
    "* How many units have been sold? <br>\n",
    "\n",
    "<b>Functions</b><br>\n",
    "Your code will feature two functions:\n",
    "+ A function to set the 'locale' of the program.\n",
    "+ A function to calculate the the total contribution margin.\n",
    "\n",
    "The country input will be passed to a function that will set the 'locale' of the program. For example, the following code sets the program locale to be Germany:\n",
    "<code>locale.setlocale(locale.LC_ALL, 'de_DE')</code> Note: as the locale may change with each program run, you will not be able to hard-coded the country code in this statement.<br>\n",
    "\n",
    "The second argument in the <code>setlocale</code> method is the Language Code Identifier (LCID) Reference, which is used to indicate the country the program is running in. The LCID codes for the countries your program may run in are listed as comments at the top of the below cell.\n",
    "\n",
    "The number of units sold input will be passed to a different <u>function</u> that will return the <i>Total Contribution Margin</i>.\n",
    "\n",
    "After both functions have been executed, the total contribution margin will be displayed to the Accountant. Use the locale method <code>locale.currency()</code> to correctly format the output given the country the program is running in.\n",
    "\n",
    "For more information on Python's <i>locale</i> module, [see here](https://phrase.com/blog/posts/beginners-guide-to-locale-in-python/). "
   ]
  },
  {
   "cell_type": "code",
   "execution_count": 6,
   "metadata": {},
   "outputs": [
    {
     "name": "stdout",
     "output_type": "stream",
     "text": [
      "Which country is this program running in [AUS, GER, IT, UK, US]? IT\n",
      "How many units have been sold? 344\n",
      "The Total Contribution Margin is (in local currency):  17200,00 €\n"
     ]
    }
   ],
   "source": [
    "# Language Code Identifier (LCID) Reference:\n",
    "#    de_DE for GER\n",
    "#    en_AU for AUS\n",
    "#    it_IT for IT\n",
    "#    en_GB for UK\n",
    "#    en_US for US\n",
    "\n",
    "import locale\n",
    "\n",
    "def set_locale(country):\n",
    "    if country == \"AUS\":\n",
    "        locale.setlocale(locale.LC_ALL, 'en_AU')\n",
    "    elif country == \"GER\":\n",
    "        locale.setlocale(locale.LC_ALL, 'de_DE')\n",
    "    elif country == \"IT\":\n",
    "        locale.setlocale(locale.LC_ALL, 'it_IT')\n",
    "    elif country == \"UK\":\n",
    "        locale.setlocale(locale.LC_ALL, 'en_GB')\n",
    "    elif country == \"US\":\n",
    "        locale.setlocale(locale.LC_ALL, 'en_US')\n",
    "        \n",
    "def total_contribution_margin(unit):\n",
    "    return (120 - 70) * unit\n",
    "\n",
    "country = input(\"Which country is this program running in [AUS, GER, IT, UK, US]? \")\n",
    "set_locale(country)\n",
    "unit = int(input(\"How many units have been sold? \"))\n",
    "if country == \"US\":\n",
    "    print(\"The Total Contribution Margin is (in local currency): \", \n",
    "      locale.currency(total_contribution_margin(unit),symbol=False), \"$\")\n",
    "else:\n",
    "    print(\"The Total Contribution Margin is (in local currency): \", \n",
    "      locale.currency(total_contribution_margin(unit),symbol=False), \"€\")"
   ]
  },
  {
   "cell_type": "markdown",
   "metadata": {},
   "source": [
    "---\n",
    "<b>Problem #6:</b> Super Sale chain store\n",
    "\n",
    "The Super Sale chain store sells furniture. \n",
    "\n",
    "When a piece of furniture is returned within the product trial period, the store clerk will refund the customer the initial cost of the product but less a <b>5%</b> restocking fee and a flat fee of <b>\\\\$15</b>. However, the flat fee is waived if the refund amount will be less than <b>\\\\$100</b>. \n",
    "\n",
    "However, if the <u>number of days</u> between the sale and the attempted return is more than <b>15 days</b>, then the customer will not receive any refund. Your program output should indicate that clearly.\n",
    "\n",
    "In addition, the program will:\n",
    "* Ask the store clerk to enter the original date of the sale.\n",
    "* Ask the store clerk to enter today's date.\n",
    "* Ask the store clerk to enter the original sales price (assuming the customer is eligible for a refund).\n",
    "* Print out the amount to refund to the customer.\n",
    "\n",
    "These last four requirements can<u>not</u> be within any function. \n",
    "\n",
    "Your program should feature <u>two functions</u>: \n",
    "1. the actual calculation of the refund amount.\n",
    "2. the return date test.\n",
    "\n",
    "Both these functions must feature an appropriate return value.\n",
    "\n",
    "Note: please refer to <b>Lesson 6: Date & Time</b> to aid your time calculations."
   ]
  },
  {
   "cell_type": "code",
   "execution_count": 19,
   "metadata": {},
   "outputs": [
    {
     "name": "stdout",
     "output_type": "stream",
     "text": [
      "When did you purchase this item (mm/dd/yyyy)? 03/10/2021\n",
      "What is today's date (mm/dd/yyyy)? 03/20/2021\n",
      "You are eligible for a refund.\n",
      "How much did the item cost? 100\n",
      "your refund will be  $95.00\n"
     ]
    }
   ],
   "source": [
    "from datetime import datetime, timedelta\n",
    "\n",
    "def refund_amount(amount): \n",
    "    amount = amount * 0.95\n",
    "    if amount > 100:\n",
    "        amount = amount - 15\n",
    "    return amount\n",
    "\n",
    "    \n",
    "def date_test(purchase_date, today_date):\n",
    "    future_date_after_15days = purchase_date + timedelta(days = 15)\n",
    "    return future_date_after_15days > today_date\n",
    "    \n",
    "purchase_date = input(\"When did you purchase this item (mm/dd/yyyy)? \")\n",
    "today_date = input(\"What is today's date (mm/dd/yyyy)? \")\n",
    "purchase_date = datetime.strptime(purchase_date, '%m/%d/%Y')\n",
    "today_date = datetime.strptime(today_date, \"%m/%d/%Y\")\n",
    "\n",
    "if date_test(purchase_date, today_date):\n",
    "    print(\"You are eligible for a refund.\")\n",
    "    amount = int(input(\"How much did the item cost? \"))\n",
    "    print(\"your refund will be  ${:0.2f}\".format(refund_amount(amount)))\n",
    "else: \n",
    "    print(\"You are not eligible for a refund.\")"
   ]
  },
  {
   "cell_type": "markdown",
   "metadata": {},
   "source": [
    "---"
   ]
  },
  {
   "cell_type": "markdown",
   "metadata": {},
   "source": [
    "> Submit your Notebook through Canvas using the appropriate Assignment link.<br>\n",
    "---- end of homework ----"
   ]
  }
 ],
 "metadata": {
  "kernelspec": {
   "display_name": "Python 3 (ipykernel)",
   "language": "python",
   "name": "python3"
  },
  "language_info": {
   "codemirror_mode": {
    "name": "ipython",
    "version": 3
   },
   "file_extension": ".py",
   "mimetype": "text/x-python",
   "name": "python",
   "nbconvert_exporter": "python",
   "pygments_lexer": "ipython3",
   "version": "3.9.12"
  }
 },
 "nbformat": 4,
 "nbformat_minor": 2
}
